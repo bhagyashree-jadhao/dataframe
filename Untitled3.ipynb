{
 "cells": [
  {
   "cell_type": "markdown",
   "id": "fe90a1c6",
   "metadata": {},
   "source": [
    "# hotel scrab"
   ]
  },
  {
   "cell_type": "code",
   "execution_count": 4,
   "id": "0f46ed47",
   "metadata": {},
   "outputs": [],
   "source": [
    "import pandas as pd\n",
    "from bs4 import BeautifulSoup\n",
    "import requests"
   ]
  },
  {
   "cell_type": "code",
   "execution_count": null,
   "id": "c3bf55e3",
   "metadata": {},
   "outputs": [],
   "source": [
    "response=requests.get(\"https://www.tripadvisor.in/SmartDeals-g304554-Mumbai_Maharashtra-Hotel-Deals.html\")"
   ]
  },
  {
   "cell_type": "code",
   "execution_count": null,
   "id": "cb467e96",
   "metadata": {},
   "outputs": [],
   "source": [
    "resonse.text"
   ]
  },
  {
   "cell_type": "code",
   "execution_count": null,
   "id": "6fdd8f97",
   "metadata": {},
   "outputs": [],
   "source": [
    "c=10+50"
   ]
  },
  {
   "cell_type": "code",
   "execution_count": null,
   "id": "bec6238d",
   "metadata": {},
   "outputs": [],
   "source": [
    "c"
   ]
  },
  {
   "cell_type": "code",
   "execution_count": null,
   "id": "f7ce1f4e",
   "metadata": {},
   "outputs": [],
   "source": []
  }
 ],
 "metadata": {
  "kernelspec": {
   "display_name": "Python 3 (ipykernel)",
   "language": "python",
   "name": "python3"
  },
  "language_info": {
   "codemirror_mode": {
    "name": "ipython",
    "version": 3
   },
   "file_extension": ".py",
   "mimetype": "text/x-python",
   "name": "python",
   "nbconvert_exporter": "python",
   "pygments_lexer": "ipython3",
   "version": "3.10.4"
  }
 },
 "nbformat": 4,
 "nbformat_minor": 5
}
