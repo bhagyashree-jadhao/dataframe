{
 "cells": [
  {
   "cell_type": "code",
   "execution_count": 1,
   "id": "365809bd",
   "metadata": {},
   "outputs": [],
   "source": [
    "import pandas as pd\n",
    "from bs4 import BeautifulSoup\n",
    "import requests"
   ]
  },
  {
   "cell_type": "code",
   "execution_count": 45,
   "id": "1a36f9ed",
   "metadata": {},
   "outputs": [],
   "source": [
    "query='jalgaon'\n",
    "response=requests.get(\"https://www.bing.com/search?q=weather+jalgaon\").text"
   ]
  },
  {
   "cell_type": "code",
   "execution_count": 46,
   "id": "9a506b39",
   "metadata": {},
   "outputs": [],
   "source": [
    "soup=BeautifulSoup(response,'html.parser')\n"
   ]
  },
  {
   "cell_type": "code",
   "execution_count": 56,
   "id": "41fbe75b",
   "metadata": {},
   "outputs": [],
   "source": [
    "data=soup.select('title')"
   ]
  },
  {
   "cell_type": "code",
   "execution_count": 60,
   "id": "c90de82e",
   "metadata": {},
   "outputs": [
    {
     "data": {
      "text/plain": [
       "[<title>weather jalgaon - Search</title>]"
      ]
     },
     "execution_count": 60,
     "metadata": {},
     "output_type": "execute_result"
    }
   ],
   "source": [
    "data"
   ]
  },
  {
   "cell_type": "code",
   "execution_count": 63,
   "id": "041cbd85",
   "metadata": {},
   "outputs": [
    {
     "data": {
      "text/plain": [
       "[None]"
      ]
     },
     "execution_count": 63,
     "metadata": {},
     "output_type": "execute_result"
    }
   ],
   "source": [
    "[a.attrs.get('') for a in data]"
   ]
  },
  {
   "cell_type": "code",
   "execution_count": null,
   "id": "fd9c0964",
   "metadata": {},
   "outputs": [],
   "source": [
    "soup.select"
   ]
  }
 ],
 "metadata": {
  "kernelspec": {
   "display_name": "Python 3 (ipykernel)",
   "language": "python",
   "name": "python3"
  },
  "language_info": {
   "codemirror_mode": {
    "name": "ipython",
    "version": 3
   },
   "file_extension": ".py",
   "mimetype": "text/x-python",
   "name": "python",
   "nbconvert_exporter": "python",
   "pygments_lexer": "ipython3",
   "version": "3.10.4"
  }
 },
 "nbformat": 4,
 "nbformat_minor": 5
}
