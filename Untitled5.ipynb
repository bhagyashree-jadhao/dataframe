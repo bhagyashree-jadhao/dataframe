{
 "cells": [
  {
   "cell_type": "code",
   "execution_count": 1,
   "id": "a3fc3076",
   "metadata": {},
   "outputs": [],
   "source": [
    "import requests\n",
    "import pandas as pd\n",
    "from bs4 import BeautifulSoup\n",
    "import re"
   ]
  },
  {
   "cell_type": "code",
   "execution_count": null,
   "id": "c9dde8fe",
   "metadata": {},
   "outputs": [],
   "source": [
    "response=requests.get('https://www.tripadvisor.in/SmartDeals-g304554-Mumbai_Maharashtra-Hotel-Deals.html').text"
   ]
  },
  {
   "cell_type": "code",
   "execution_count": null,
   "id": "965e6ef1",
   "metadata": {},
   "outputs": [],
   "source": []
  }
 ],
 "metadata": {
  "kernelspec": {
   "display_name": "Python 3 (ipykernel)",
   "language": "python",
   "name": "python3"
  },
  "language_info": {
   "codemirror_mode": {
    "name": "ipython",
    "version": 3
   },
   "file_extension": ".py",
   "mimetype": "text/x-python",
   "name": "python",
   "nbconvert_exporter": "python",
   "pygments_lexer": "ipython3",
   "version": "3.10.4"
  }
 },
 "nbformat": 4,
 "nbformat_minor": 5
}
