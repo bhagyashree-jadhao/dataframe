{
 "cells": [
  {
   "cell_type": "markdown",
   "id": "c198c6f4",
   "metadata": {},
   "source": [
    "# Data analysis read csv file and stored into database\n"
   ]
  },
  {
   "cell_type": "code",
   "execution_count": 2,
   "id": "48d81432",
   "metadata": {},
   "outputs": [],
   "source": [
    "import pandas as pd\n",
    "import numpy\n",
    "import glob\n",
    "import pyodbc\n",
    "import os\n"
   ]
  },
  {
   "cell_type": "code",
   "execution_count": 115,
   "id": "3a4be3a5",
   "metadata": {},
   "outputs": [
    {
     "data": {
      "text/plain": [
       "'C:\\\\Users\\\\j\\\\Desktop\\\\Project'"
      ]
     },
     "execution_count": 115,
     "metadata": {},
     "output_type": "execute_result"
    }
   ],
   "source": [
    "pathname=os.getcwd()\n",
    "pathname"
   ]
  },
  {
   "cell_type": "code",
   "execution_count": 3,
   "id": "a0e9abcb",
   "metadata": {},
   "outputs": [
    {
     "ename": "NameError",
     "evalue": "name 'pathname' is not defined",
     "output_type": "error",
     "traceback": [
      "\u001b[1;31m---------------------------------------------------------------------------\u001b[0m",
      "\u001b[1;31mNameError\u001b[0m                                 Traceback (most recent call last)",
      "Input \u001b[1;32mIn [3]\u001b[0m, in \u001b[0;36m<cell line: 1>\u001b[1;34m()\u001b[0m\n\u001b[1;32m----> 1\u001b[0m csv_files\u001b[38;5;241m=\u001b[39mglob\u001b[38;5;241m.\u001b[39mglob(os\u001b[38;5;241m.\u001b[39mpath\u001b[38;5;241m.\u001b[39mjoin(\u001b[43mpathname\u001b[49m,\u001b[38;5;124m'\u001b[39m\u001b[38;5;124m*.csv\u001b[39m\u001b[38;5;124m'\u001b[39m))\n\u001b[0;32m      2\u001b[0m csv_files\n",
      "\u001b[1;31mNameError\u001b[0m: name 'pathname' is not defined"
     ]
    }
   ],
   "source": [
    "csv_files=glob.glob(os.path.join(pathname,'*.csv'))\n",
    "csv_files"
   ]
  },
  {
   "cell_type": "code",
   "execution_count": 10,
   "id": "63cb131f",
   "metadata": {},
   "outputs": [
    {
     "data": {
      "text/html": [
       "<div>\n",
       "<style scoped>\n",
       "    .dataframe tbody tr th:only-of-type {\n",
       "        vertical-align: middle;\n",
       "    }\n",
       "\n",
       "    .dataframe tbody tr th {\n",
       "        vertical-align: top;\n",
       "    }\n",
       "\n",
       "    .dataframe thead th {\n",
       "        text-align: right;\n",
       "    }\n",
       "</style>\n",
       "<table border=\"1\" class=\"dataframe\">\n",
       "  <thead>\n",
       "    <tr style=\"text-align: right;\">\n",
       "      <th></th>\n",
       "      <th>Name</th>\n",
       "      <th>Education</th>\n",
       "      <th>Passout year</th>\n",
       "      <th>Email Id</th>\n",
       "      <th>Contact number</th>\n",
       "      <th>Experience letter Required or not If Yes connect with Hanmant sir</th>\n",
       "      <th>fess paid</th>\n",
       "    </tr>\n",
       "  </thead>\n",
       "  <tbody>\n",
       "    <tr>\n",
       "      <th>0</th>\n",
       "      <td>any</td>\n",
       "      <td>any</td>\n",
       "      <td>any</td>\n",
       "      <td>any</td>\n",
       "      <td>any</td>\n",
       "      <td>any</td>\n",
       "      <td>any</td>\n",
       "    </tr>\n",
       "    <tr>\n",
       "      <th>1</th>\n",
       "      <td>Vinayak Jadhav</td>\n",
       "      <td>B.Sc (Agriculture)</td>\n",
       "      <td>2019</td>\n",
       "      <td>jvinayak2018@gmail.com</td>\n",
       "      <td>9922392435.0</td>\n",
       "      <td>Yes</td>\n",
       "      <td>any</td>\n",
       "    </tr>\n",
       "    <tr>\n",
       "      <th>2</th>\n",
       "      <td>Akanksha Singh</td>\n",
       "      <td>B.E(E&amp;TC)</td>\n",
       "      <td>2017</td>\n",
       "      <td>akankshasingh36@gmail.com</td>\n",
       "      <td>8830343632.0</td>\n",
       "      <td>yes</td>\n",
       "      <td>any</td>\n",
       "    </tr>\n",
       "    <tr>\n",
       "      <th>3</th>\n",
       "      <td>Bhagyashree Jadhao</td>\n",
       "      <td>MSc (Comp.Sci)</td>\n",
       "      <td>2016</td>\n",
       "      <td>jadhaobhagyashri@gmail.com</td>\n",
       "      <td>8552943673.0</td>\n",
       "      <td>yes</td>\n",
       "      <td>any</td>\n",
       "    </tr>\n",
       "    <tr>\n",
       "      <th>4</th>\n",
       "      <td>Shilpa B Kusumale</td>\n",
       "      <td>BCA</td>\n",
       "      <td>2020</td>\n",
       "      <td>shilpakusumale20@gmail.com</td>\n",
       "      <td>7620410714.0</td>\n",
       "      <td>yes</td>\n",
       "      <td>any</td>\n",
       "    </tr>\n",
       "    <tr>\n",
       "      <th>5</th>\n",
       "      <td>Viplav Meshram</td>\n",
       "      <td>MBA</td>\n",
       "      <td>2016</td>\n",
       "      <td>meshramviplav@gmail.com</td>\n",
       "      <td>8407987479.0</td>\n",
       "      <td>No</td>\n",
       "      <td>any</td>\n",
       "    </tr>\n",
       "    <tr>\n",
       "      <th>6</th>\n",
       "      <td>kajal Bhole</td>\n",
       "      <td>B. Com</td>\n",
       "      <td>2020</td>\n",
       "      <td>kajalbhole29@gmail.com</td>\n",
       "      <td>7028277721.0</td>\n",
       "      <td>yes</td>\n",
       "      <td>any</td>\n",
       "    </tr>\n",
       "    <tr>\n",
       "      <th>7</th>\n",
       "      <td>Pawan Waghmare</td>\n",
       "      <td>B.Sc (C S)</td>\n",
       "      <td>2015</td>\n",
       "      <td>pawanwaghmare369@gmail.com</td>\n",
       "      <td>7774878003.0</td>\n",
       "      <td>No</td>\n",
       "      <td>any</td>\n",
       "    </tr>\n",
       "    <tr>\n",
       "      <th>8</th>\n",
       "      <td>Trupti Punekar</td>\n",
       "      <td>B.com</td>\n",
       "      <td>2019</td>\n",
       "      <td>truptipunekar98@gmail.com</td>\n",
       "      <td>7507419627.0</td>\n",
       "      <td>yes</td>\n",
       "      <td>any</td>\n",
       "    </tr>\n",
       "    <tr>\n",
       "      <th>9</th>\n",
       "      <td>Vishal Chavan</td>\n",
       "      <td>M.com</td>\n",
       "      <td>2015</td>\n",
       "      <td>chavanvishal789@gmail.com</td>\n",
       "      <td>9689213902.0</td>\n",
       "      <td>yes</td>\n",
       "      <td>any</td>\n",
       "    </tr>\n",
       "    <tr>\n",
       "      <th>10</th>\n",
       "      <td>Mahesh Bhadane</td>\n",
       "      <td>M.Sc(Electronics)</td>\n",
       "      <td>2020</td>\n",
       "      <td>maheshr.bhadane198@gmail.com</td>\n",
       "      <td>9172508677.0</td>\n",
       "      <td>Yes</td>\n",
       "      <td>any</td>\n",
       "    </tr>\n",
       "    <tr>\n",
       "      <th>11</th>\n",
       "      <td>Akshay Sarode</td>\n",
       "      <td>B.Sc</td>\n",
       "      <td>2021</td>\n",
       "      <td>sarodeakshay36@gmail.com</td>\n",
       "      <td>9834803028.0</td>\n",
       "      <td>Yes</td>\n",
       "      <td>any</td>\n",
       "    </tr>\n",
       "    <tr>\n",
       "      <th>12</th>\n",
       "      <td>Aparna Kanthak</td>\n",
       "      <td>M.Sc(Mathematics)</td>\n",
       "      <td>2016</td>\n",
       "      <td>appu.kanthak11@gmail.com</td>\n",
       "      <td>9405373070.0</td>\n",
       "      <td>Yes</td>\n",
       "      <td>any</td>\n",
       "    </tr>\n",
       "    <tr>\n",
       "      <th>13</th>\n",
       "      <td>Anjali Panchariya</td>\n",
       "      <td>B.com</td>\n",
       "      <td>pursuing</td>\n",
       "      <td>anjalipanchariya2908@gmail.com</td>\n",
       "      <td>8087877844.0</td>\n",
       "      <td>no</td>\n",
       "      <td>any</td>\n",
       "    </tr>\n",
       "    <tr>\n",
       "      <th>14</th>\n",
       "      <td>Nachiket Devkar</td>\n",
       "      <td>MBA</td>\n",
       "      <td>2016</td>\n",
       "      <td>ndevkar4138@gmail.com</td>\n",
       "      <td>8888566587.0</td>\n",
       "      <td>no\\n</td>\n",
       "      <td>any</td>\n",
       "    </tr>\n",
       "    <tr>\n",
       "      <th>15</th>\n",
       "      <td>Rupali gaiykwad</td>\n",
       "      <td>any</td>\n",
       "      <td>any</td>\n",
       "      <td>any</td>\n",
       "      <td>any</td>\n",
       "      <td>any</td>\n",
       "      <td>any</td>\n",
       "    </tr>\n",
       "    <tr>\n",
       "      <th>16</th>\n",
       "      <td>Prajakta D Kedar</td>\n",
       "      <td>M.Sc (Agricultural Biotechnology)</td>\n",
       "      <td>2015</td>\n",
       "      <td>prajakta.kedar31@gmail.com</td>\n",
       "      <td>9923800615.0</td>\n",
       "      <td>Yes (after 3 months)</td>\n",
       "      <td>any</td>\n",
       "    </tr>\n",
       "  </tbody>\n",
       "</table>\n",
       "</div>"
      ],
      "text/plain": [
       "                 Name                          Education  Passout year  \\\n",
       "0                  any                                any          any   \n",
       "1       Vinayak Jadhav                 B.Sc (Agriculture)         2019   \n",
       "2       Akanksha Singh                          B.E(E&TC)         2017   \n",
       "3   Bhagyashree Jadhao                     MSc (Comp.Sci)         2016   \n",
       "4    Shilpa B Kusumale                                BCA         2020   \n",
       "5       Viplav Meshram                                MBA         2016   \n",
       "6          kajal Bhole                             B. Com         2020   \n",
       "7      Pawan Waghmare                          B.Sc (C S)         2015   \n",
       "8       Trupti Punekar                              B.com         2019   \n",
       "9        Vishal Chavan                             M.com          2015   \n",
       "10      Mahesh Bhadane                  M.Sc(Electronics)         2020   \n",
       "11      Akshay Sarode                                B.Sc         2021   \n",
       "12      Aparna Kanthak                  M.Sc(Mathematics)         2016   \n",
       "13   Anjali Panchariya                             B.com      pursuing   \n",
       "14     Nachiket Devkar                                MBA         2016   \n",
       "15     Rupali gaiykwad                                any          any   \n",
       "16   Prajakta D Kedar   M.Sc (Agricultural Biotechnology)         2015   \n",
       "\n",
       "                          Email Id Contact number  \\\n",
       "0                              any            any   \n",
       "1           jvinayak2018@gmail.com   9922392435.0   \n",
       "2        akankshasingh36@gmail.com   8830343632.0   \n",
       "3       jadhaobhagyashri@gmail.com   8552943673.0   \n",
       "4       shilpakusumale20@gmail.com   7620410714.0   \n",
       "5          meshramviplav@gmail.com   8407987479.0   \n",
       "6           kajalbhole29@gmail.com   7028277721.0   \n",
       "7      pawanwaghmare369@gmail.com    7774878003.0   \n",
       "8        truptipunekar98@gmail.com   7507419627.0   \n",
       "9       chavanvishal789@gmail.com    9689213902.0   \n",
       "10    maheshr.bhadane198@gmail.com   9172508677.0   \n",
       "11       sarodeakshay36@gmail.com    9834803028.0   \n",
       "12        appu.kanthak11@gmail.com   9405373070.0   \n",
       "13  anjalipanchariya2908@gmail.com   8087877844.0   \n",
       "14           ndevkar4138@gmail.com   8888566587.0   \n",
       "15                             any            any   \n",
       "16      prajakta.kedar31@gmail.com   9923800615.0   \n",
       "\n",
       "   Experience letter Required or not If Yes connect with Hanmant sir fess paid  \n",
       "0                                                 any                      any  \n",
       "1                                                 Yes                      any  \n",
       "2                                                 yes                      any  \n",
       "3                                                 yes                      any  \n",
       "4                                                 yes                      any  \n",
       "5                                                  No                      any  \n",
       "6                                                 yes                      any  \n",
       "7                                                  No                      any  \n",
       "8                                                 yes                      any  \n",
       "9                                                 yes                      any  \n",
       "10                                                Yes                      any  \n",
       "11                                                Yes                      any  \n",
       "12                                                Yes                      any  \n",
       "13                                                 no                      any  \n",
       "14                                               no\\n                      any  \n",
       "15                                                any                      any  \n",
       "16                               Yes (after 3 months)                      any  "
      ]
     },
     "execution_count": 10,
     "metadata": {},
     "output_type": "execute_result"
    }
   ],
   "source": [
    "file.fillna('any')"
   ]
  },
  {
   "cell_type": "code",
   "execution_count": null,
   "id": "ed092651",
   "metadata": {},
   "outputs": [],
   "source": [
    "file=pd.read_csv(\"C:\\\\Users\\\\j\\\\Desktop\\\\Project\\\\data.csv\")\n",
    "file"
   ]
  },
  {
   "cell_type": "code",
   "execution_count": 7,
   "id": "713c7456",
   "metadata": {},
   "outputs": [
    {
     "data": {
      "text/plain": [
       "Index(['Name ', 'Education ', 'Passout year', 'Email Id', 'Contact number',\n",
       "       'Experience letter Required or not If Yes connect with Hanmant sir',\n",
       "       'fess paid'],\n",
       "      dtype='object')"
      ]
     },
     "execution_count": 7,
     "metadata": {},
     "output_type": "execute_result"
    }
   ],
   "source": [
    "file.columns"
   ]
  },
  {
   "cell_type": "code",
   "execution_count": 8,
   "id": "5153678c",
   "metadata": {},
   "outputs": [],
   "source": [
    "sub_data=file[['Name ', 'Education ', 'Passout year', 'Email Id', 'Contact number',\n",
    "       'fess paid']]"
   ]
  },
  {
   "cell_type": "code",
   "execution_count": null,
   "id": "eb37f4f6",
   "metadata": {},
   "outputs": [],
   "source": [
    "sub_data.dropna(how='all',inplace=True)"
   ]
  },
  {
   "cell_type": "code",
   "execution_count": null,
   "id": "d218f9dc",
   "metadata": {},
   "outputs": [],
   "source": [
    "sub_data"
   ]
  },
  {
   "cell_type": "code",
   "execution_count": 24,
   "id": "c4f846da",
   "metadata": {},
   "outputs": [
    {
     "data": {
      "text/html": [
       "<div>\n",
       "<style scoped>\n",
       "    .dataframe tbody tr th:only-of-type {\n",
       "        vertical-align: middle;\n",
       "    }\n",
       "\n",
       "    .dataframe tbody tr th {\n",
       "        vertical-align: top;\n",
       "    }\n",
       "\n",
       "    .dataframe thead th {\n",
       "        text-align: right;\n",
       "    }\n",
       "</style>\n",
       "<table border=\"1\" class=\"dataframe\">\n",
       "  <thead>\n",
       "    <tr style=\"text-align: right;\">\n",
       "      <th></th>\n",
       "      <th>Name</th>\n",
       "      <th>Education</th>\n",
       "      <th>Passout year</th>\n",
       "      <th>Email Id</th>\n",
       "      <th>Contact number</th>\n",
       "      <th>fess paid</th>\n",
       "    </tr>\n",
       "  </thead>\n",
       "  <tbody>\n",
       "    <tr>\n",
       "      <th>1</th>\n",
       "      <td>Vinayak Jadhav</td>\n",
       "      <td>B.Sc (Agriculture)</td>\n",
       "      <td>2019</td>\n",
       "      <td>jvinayak2018@gmail.com</td>\n",
       "      <td>9.922392e+09</td>\n",
       "      <td>NaN</td>\n",
       "    </tr>\n",
       "    <tr>\n",
       "      <th>2</th>\n",
       "      <td>Akanksha Singh</td>\n",
       "      <td>B.E(E&amp;TC)</td>\n",
       "      <td>2017</td>\n",
       "      <td>akankshasingh36@gmail.com</td>\n",
       "      <td>8.830344e+09</td>\n",
       "      <td>NaN</td>\n",
       "    </tr>\n",
       "    <tr>\n",
       "      <th>3</th>\n",
       "      <td>Bhagyashree Jadhao</td>\n",
       "      <td>MSc (Comp.Sci)</td>\n",
       "      <td>2016</td>\n",
       "      <td>jadhaobhagyashri@gmail.com</td>\n",
       "      <td>8.552944e+09</td>\n",
       "      <td>NaN</td>\n",
       "    </tr>\n",
       "    <tr>\n",
       "      <th>4</th>\n",
       "      <td>Shilpa B Kusumale</td>\n",
       "      <td>BCA</td>\n",
       "      <td>2020</td>\n",
       "      <td>shilpakusumale20@gmail.com</td>\n",
       "      <td>7.620411e+09</td>\n",
       "      <td>NaN</td>\n",
       "    </tr>\n",
       "    <tr>\n",
       "      <th>5</th>\n",
       "      <td>Viplav Meshram</td>\n",
       "      <td>MBA</td>\n",
       "      <td>2016</td>\n",
       "      <td>meshramviplav@gmail.com</td>\n",
       "      <td>8.407987e+09</td>\n",
       "      <td>NaN</td>\n",
       "    </tr>\n",
       "    <tr>\n",
       "      <th>6</th>\n",
       "      <td>kajal Bhole</td>\n",
       "      <td>B. Com</td>\n",
       "      <td>2020</td>\n",
       "      <td>kajalbhole29@gmail.com</td>\n",
       "      <td>7.028278e+09</td>\n",
       "      <td>NaN</td>\n",
       "    </tr>\n",
       "    <tr>\n",
       "      <th>7</th>\n",
       "      <td>Pawan Waghmare</td>\n",
       "      <td>B.Sc (C S)</td>\n",
       "      <td>2015</td>\n",
       "      <td>pawanwaghmare369@gmail.com</td>\n",
       "      <td>7.774878e+09</td>\n",
       "      <td>NaN</td>\n",
       "    </tr>\n",
       "    <tr>\n",
       "      <th>8</th>\n",
       "      <td>Trupti Punekar</td>\n",
       "      <td>B.com</td>\n",
       "      <td>2019</td>\n",
       "      <td>truptipunekar98@gmail.com</td>\n",
       "      <td>7.507420e+09</td>\n",
       "      <td>NaN</td>\n",
       "    </tr>\n",
       "    <tr>\n",
       "      <th>9</th>\n",
       "      <td>Vishal Chavan</td>\n",
       "      <td>M.com</td>\n",
       "      <td>2015</td>\n",
       "      <td>chavanvishal789@gmail.com</td>\n",
       "      <td>9.689214e+09</td>\n",
       "      <td>NaN</td>\n",
       "    </tr>\n",
       "    <tr>\n",
       "      <th>10</th>\n",
       "      <td>Mahesh Bhadane</td>\n",
       "      <td>M.Sc(Electronics)</td>\n",
       "      <td>2020</td>\n",
       "      <td>maheshr.bhadane198@gmail.com</td>\n",
       "      <td>9.172509e+09</td>\n",
       "      <td>NaN</td>\n",
       "    </tr>\n",
       "    <tr>\n",
       "      <th>11</th>\n",
       "      <td>Akshay Sarode</td>\n",
       "      <td>B.Sc</td>\n",
       "      <td>2021</td>\n",
       "      <td>sarodeakshay36@gmail.com</td>\n",
       "      <td>9.834803e+09</td>\n",
       "      <td>NaN</td>\n",
       "    </tr>\n",
       "    <tr>\n",
       "      <th>12</th>\n",
       "      <td>Aparna Kanthak</td>\n",
       "      <td>M.Sc(Mathematics)</td>\n",
       "      <td>2016</td>\n",
       "      <td>appu.kanthak11@gmail.com</td>\n",
       "      <td>9.405373e+09</td>\n",
       "      <td>NaN</td>\n",
       "    </tr>\n",
       "    <tr>\n",
       "      <th>13</th>\n",
       "      <td>Anjali Panchariya</td>\n",
       "      <td>B.com</td>\n",
       "      <td>pursuing</td>\n",
       "      <td>anjalipanchariya2908@gmail.com</td>\n",
       "      <td>8.087878e+09</td>\n",
       "      <td>NaN</td>\n",
       "    </tr>\n",
       "    <tr>\n",
       "      <th>14</th>\n",
       "      <td>Nachiket Devkar</td>\n",
       "      <td>MBA</td>\n",
       "      <td>2016</td>\n",
       "      <td>ndevkar4138@gmail.com</td>\n",
       "      <td>8.888567e+09</td>\n",
       "      <td>NaN</td>\n",
       "    </tr>\n",
       "    <tr>\n",
       "      <th>15</th>\n",
       "      <td>Rupali gaiykwad</td>\n",
       "      <td>NaN</td>\n",
       "      <td>NaN</td>\n",
       "      <td>NaN</td>\n",
       "      <td>NaN</td>\n",
       "      <td>NaN</td>\n",
       "    </tr>\n",
       "    <tr>\n",
       "      <th>16</th>\n",
       "      <td>Prajakta D Kedar</td>\n",
       "      <td>M.Sc (Agricultural Biotechnology)</td>\n",
       "      <td>2015</td>\n",
       "      <td>prajakta.kedar31@gmail.com</td>\n",
       "      <td>9.923801e+09</td>\n",
       "      <td>NaN</td>\n",
       "    </tr>\n",
       "  </tbody>\n",
       "</table>\n",
       "</div>"
      ],
      "text/plain": [
       "                 Name                          Education  Passout year  \\\n",
       "1       Vinayak Jadhav                 B.Sc (Agriculture)         2019   \n",
       "2       Akanksha Singh                          B.E(E&TC)         2017   \n",
       "3   Bhagyashree Jadhao                     MSc (Comp.Sci)         2016   \n",
       "4    Shilpa B Kusumale                                BCA         2020   \n",
       "5       Viplav Meshram                                MBA         2016   \n",
       "6          kajal Bhole                             B. Com         2020   \n",
       "7      Pawan Waghmare                          B.Sc (C S)         2015   \n",
       "8       Trupti Punekar                              B.com         2019   \n",
       "9        Vishal Chavan                             M.com          2015   \n",
       "10      Mahesh Bhadane                  M.Sc(Electronics)         2020   \n",
       "11      Akshay Sarode                                B.Sc         2021   \n",
       "12      Aparna Kanthak                  M.Sc(Mathematics)         2016   \n",
       "13   Anjali Panchariya                             B.com      pursuing   \n",
       "14     Nachiket Devkar                                MBA         2016   \n",
       "15     Rupali gaiykwad                                NaN          NaN   \n",
       "16   Prajakta D Kedar   M.Sc (Agricultural Biotechnology)         2015   \n",
       "\n",
       "                          Email Id  Contact number  fess paid  \n",
       "1           jvinayak2018@gmail.com    9.922392e+09        NaN  \n",
       "2        akankshasingh36@gmail.com    8.830344e+09        NaN  \n",
       "3       jadhaobhagyashri@gmail.com    8.552944e+09        NaN  \n",
       "4       shilpakusumale20@gmail.com    7.620411e+09        NaN  \n",
       "5          meshramviplav@gmail.com    8.407987e+09        NaN  \n",
       "6           kajalbhole29@gmail.com    7.028278e+09        NaN  \n",
       "7      pawanwaghmare369@gmail.com     7.774878e+09        NaN  \n",
       "8        truptipunekar98@gmail.com    7.507420e+09        NaN  \n",
       "9       chavanvishal789@gmail.com     9.689214e+09        NaN  \n",
       "10    maheshr.bhadane198@gmail.com    9.172509e+09        NaN  \n",
       "11       sarodeakshay36@gmail.com     9.834803e+09        NaN  \n",
       "12        appu.kanthak11@gmail.com    9.405373e+09        NaN  \n",
       "13  anjalipanchariya2908@gmail.com    8.087878e+09        NaN  \n",
       "14           ndevkar4138@gmail.com    8.888567e+09        NaN  \n",
       "15                             NaN             NaN        NaN  \n",
       "16      prajakta.kedar31@gmail.com    9.923801e+09        NaN  "
      ]
     },
     "execution_count": 24,
     "metadata": {},
     "output_type": "execute_result"
    }
   ],
   "source": [
    "sub_data.dropna(how='all')"
   ]
  },
  {
   "cell_type": "code",
   "execution_count": null,
   "id": "f920a3f9",
   "metadata": {},
   "outputs": [],
   "source": [
    "del sub_data['fess paid']"
   ]
  },
  {
   "cell_type": "code",
   "execution_count": 37,
   "id": "f4d4f61a",
   "metadata": {},
   "outputs": [
    {
     "name": "stderr",
     "output_type": "stream",
     "text": [
      "C:\\Users\\j\\AppData\\Local\\Temp\\ipykernel_9728\\129800209.py:1: SettingWithCopyWarning: \n",
      "A value is trying to be set on a copy of a slice from a DataFrame\n",
      "\n",
      "See the caveats in the documentation: https://pandas.pydata.org/pandas-docs/stable/user_guide/indexing.html#returning-a-view-versus-a-copy\n",
      "  sub_data.dropna(inplace=True)\n"
     ]
    }
   ],
   "source": [
    "sub_data.dropna(inplace=True)"
   ]
  },
  {
   "cell_type": "code",
   "execution_count": null,
   "id": "0ff74599",
   "metadata": {},
   "outputs": [],
   "source": [
    "sub_data"
   ]
  },
  {
   "cell_type": "code",
   "execution_count": 46,
   "id": "2aaed46c",
   "metadata": {},
   "outputs": [
    {
     "name": "stderr",
     "output_type": "stream",
     "text": [
      "C:\\Users\\j\\AppData\\Local\\Temp\\ipykernel_9728\\302771639.py:1: SettingWithCopyWarning: \n",
      "A value is trying to be set on a copy of a slice from a DataFrame.\n",
      "Try using .loc[row_indexer,col_indexer] = value instead\n",
      "\n",
      "See the caveats in the documentation: https://pandas.pydata.org/pandas-docs/stable/user_guide/indexing.html#returning-a-view-versus-a-copy\n",
      "  sub_data['Contact number']=sub_data['Contact number'].astype('float')\n"
     ]
    }
   ],
   "source": [
    "sub_data['Contact number']=sub_data['Contact number'].astype('float')"
   ]
  },
  {
   "cell_type": "code",
   "execution_count": 13,
   "id": "faa8cf49",
   "metadata": {},
   "outputs": [
    {
     "data": {
      "text/plain": [
       "Index(['Name ', 'Education ', 'Passout year', 'Email Id', 'Contact number'], dtype='object')"
      ]
     },
     "execution_count": 13,
     "metadata": {},
     "output_type": "execute_result"
    }
   ],
   "source": [
    "sub_data.columns"
   ]
  },
  {
   "cell_type": "code",
   "execution_count": 14,
   "id": "3dd19d8c",
   "metadata": {},
   "outputs": [],
   "source": [
    "del sub_data['Contact number']"
   ]
  },
  {
   "cell_type": "code",
   "execution_count": 26,
   "id": "459a5cff",
   "metadata": {},
   "outputs": [],
   "source": [
    "sub_data=sub_data.rename(columns={'Name':'E_Name','Education':'Edu_D', 'Passout_Year':'Passout_year', 'Email_id':'Email_Id'})"
   ]
  },
  {
   "cell_type": "code",
   "execution_count": 27,
   "id": "60a5a582",
   "metadata": {},
   "outputs": [
    {
     "data": {
      "text/plain": [
       "Index(['Name ', 'Education ', 'Passout_year', 'Email_Id'], dtype='object')"
      ]
     },
     "execution_count": 27,
     "metadata": {},
     "output_type": "execute_result"
    }
   ],
   "source": [
    "sub_data.columns"
   ]
  },
  {
   "cell_type": "code",
   "execution_count": 52,
   "id": "71f850bb",
   "metadata": {},
   "outputs": [],
   "source": [
    "sub_column=sub_data[['Name ', 'Education ', 'Passout year', 'Email Id']]"
   ]
  },
  {
   "cell_type": "code",
   "execution_count": 19,
   "id": "3cec6af5",
   "metadata": {},
   "outputs": [],
   "source": [
    "sub_data=sub_data.rename(columns={'Name':'SName', 'Education':'Education', 'Passout year':'Passout_Year', 'Email Id':'Email_id'})\n"
   ]
  },
  {
   "cell_type": "code",
   "execution_count": 20,
   "id": "954a30f7",
   "metadata": {},
   "outputs": [
    {
     "data": {
      "text/plain": [
       "Index(['Name ', 'Education ', 'Passout_Year', 'Email_id'], dtype='object')"
      ]
     },
     "execution_count": 20,
     "metadata": {},
     "output_type": "execute_result"
    }
   ],
   "source": [
    "sub_data.columns"
   ]
  },
  {
   "cell_type": "code",
   "execution_count": 82,
   "id": "80ee0b4c",
   "metadata": {},
   "outputs": [],
   "source": [
    "sub_column=sub_column.rename(columns={'Name':'S_Name'})"
   ]
  },
  {
   "cell_type": "code",
   "execution_count": 1,
   "id": "7765ab0b",
   "metadata": {},
   "outputs": [
    {
     "ename": "NameError",
     "evalue": "name 'sub_column' is not defined",
     "output_type": "error",
     "traceback": [
      "\u001b[1;31m---------------------------------------------------------------------------\u001b[0m",
      "\u001b[1;31mNameError\u001b[0m                                 Traceback (most recent call last)",
      "Input \u001b[1;32mIn [1]\u001b[0m, in \u001b[0;36m<cell line: 1>\u001b[1;34m()\u001b[0m\n\u001b[1;32m----> 1\u001b[0m \u001b[43msub_column\u001b[49m\u001b[38;5;241m.\u001b[39mcolumns\n",
      "\u001b[1;31mNameError\u001b[0m: name 'sub_column' is not defined"
     ]
    }
   ],
   "source": [
    "sub_column.columns"
   ]
  },
  {
   "cell_type": "code",
   "execution_count": 2,
   "id": "9f09555a",
   "metadata": {},
   "outputs": [
    {
     "ename": "NameError",
     "evalue": "name 'sub_data' is not defined",
     "output_type": "error",
     "traceback": [
      "\u001b[1;31m---------------------------------------------------------------------------\u001b[0m",
      "\u001b[1;31mNameError\u001b[0m                                 Traceback (most recent call last)",
      "Input \u001b[1;32mIn [2]\u001b[0m, in \u001b[0;36m<cell line: 1>\u001b[1;34m()\u001b[0m\n\u001b[1;32m----> 1\u001b[0m \u001b[43msub_data\u001b[49m\n",
      "\u001b[1;31mNameError\u001b[0m: name 'sub_data' is not defined"
     ]
    }
   ],
   "source": [
    "sub_data"
   ]
  },
  {
   "cell_type": "code",
   "execution_count": 67,
   "id": "650f2020",
   "metadata": {},
   "outputs": [],
   "source": [
    "\n",
    "con = pyodbc.connect('DRIVER={SQL Server};SERVER=DESKTOP-3407HKD;DATABASE=pythondata')\n",
    "cursor = con.cursor()\n"
   ]
  },
  {
   "cell_type": "code",
   "execution_count": 102,
   "id": "e22c6645",
   "metadata": {},
   "outputs": [
    {
     "ename": "AttributeError",
     "evalue": "'Series' object has no attribute 'Name'",
     "output_type": "error",
     "traceback": [
      "\u001b[1;31m---------------------------------------------------------------------------\u001b[0m",
      "\u001b[1;31mAttributeError\u001b[0m                            Traceback (most recent call last)",
      "Input \u001b[1;32mIn [102]\u001b[0m, in \u001b[0;36m<cell line: 1>\u001b[1;34m()\u001b[0m\n\u001b[0;32m      1\u001b[0m \u001b[38;5;28;01mfor\u001b[39;00m i,row \u001b[38;5;129;01min\u001b[39;00m sub_data\u001b[38;5;241m.\u001b[39miterrows():\n\u001b[0;32m      2\u001b[0m     \u001b[38;5;66;03m#print(i,row)\u001b[39;00m\n\u001b[1;32m----> 3\u001b[0m     cursor\u001b[38;5;241m.\u001b[39mexecute(\u001b[38;5;124m\"\u001b[39m\u001b[38;5;124minsert into student(Name, Education, Passout_Year, Email_id)values(?,?,?,?)\u001b[39m\u001b[38;5;124m\"\u001b[39m,\u001b[43mrow\u001b[49m\u001b[38;5;241;43m.\u001b[39;49m\u001b[43mName\u001b[49m,row\u001b[38;5;241m.\u001b[39mEducation,row\u001b[38;5;241m.\u001b[39mPassout_Year,row\u001b[38;5;241m.\u001b[39mEmail_id)\n\u001b[0;32m      4\u001b[0m     cursor\u001b[38;5;241m.\u001b[39mcommit\n",
      "File \u001b[1;32m~\\anaconda3\\envs\\json_project\\lib\\site-packages\\pandas\\core\\generic.py:5575\u001b[0m, in \u001b[0;36mNDFrame.__getattr__\u001b[1;34m(self, name)\u001b[0m\n\u001b[0;32m   5568\u001b[0m \u001b[38;5;28;01mif\u001b[39;00m (\n\u001b[0;32m   5569\u001b[0m     name \u001b[38;5;129;01mnot\u001b[39;00m \u001b[38;5;129;01min\u001b[39;00m \u001b[38;5;28mself\u001b[39m\u001b[38;5;241m.\u001b[39m_internal_names_set\n\u001b[0;32m   5570\u001b[0m     \u001b[38;5;129;01mand\u001b[39;00m name \u001b[38;5;129;01mnot\u001b[39;00m \u001b[38;5;129;01min\u001b[39;00m \u001b[38;5;28mself\u001b[39m\u001b[38;5;241m.\u001b[39m_metadata\n\u001b[0;32m   5571\u001b[0m     \u001b[38;5;129;01mand\u001b[39;00m name \u001b[38;5;129;01mnot\u001b[39;00m \u001b[38;5;129;01min\u001b[39;00m \u001b[38;5;28mself\u001b[39m\u001b[38;5;241m.\u001b[39m_accessors\n\u001b[0;32m   5572\u001b[0m     \u001b[38;5;129;01mand\u001b[39;00m \u001b[38;5;28mself\u001b[39m\u001b[38;5;241m.\u001b[39m_info_axis\u001b[38;5;241m.\u001b[39m_can_hold_identifiers_and_holds_name(name)\n\u001b[0;32m   5573\u001b[0m ):\n\u001b[0;32m   5574\u001b[0m     \u001b[38;5;28;01mreturn\u001b[39;00m \u001b[38;5;28mself\u001b[39m[name]\n\u001b[1;32m-> 5575\u001b[0m \u001b[38;5;28;01mreturn\u001b[39;00m \u001b[38;5;28;43mobject\u001b[39;49m\u001b[38;5;241;43m.\u001b[39;49m\u001b[38;5;21;43m__getattribute__\u001b[39;49m\u001b[43m(\u001b[49m\u001b[38;5;28;43mself\u001b[39;49m\u001b[43m,\u001b[49m\u001b[43m \u001b[49m\u001b[43mname\u001b[49m\u001b[43m)\u001b[49m\n",
      "\u001b[1;31mAttributeError\u001b[0m: 'Series' object has no attribute 'Name'"
     ]
    }
   ],
   "source": [
    "for i,row in sub_data.iterrows():\n",
    "    #print(i,row)\n",
    "    cursor.execute(\"insert into student(Name, Education, Passout_Year, Email_id)values(?,?,?,?)\",row.Name,row.Education,row.Passout_Year,row.Email_id)\n",
    "    cursor.commit"
   ]
  },
  {
   "cell_type": "code",
   "execution_count": null,
   "id": "eb64ecb6",
   "metadata": {},
   "outputs": [],
   "source": [
    "for i,row in file.iterrows():\n",
    "    cur.execute(\"insert into tbl_customer(cust_ID,cust_Name,cust_code,cust_Number)values(?,?,?,?)\",row.Customer_ID,row.Customer_Name,row.Cust_Code,row.Cust_Number)\n",
    "    cur.commit()\n",
    "    \n",
    "\n",
    "connection.close()"
   ]
  },
  {
   "cell_type": "code",
   "execution_count": 120,
   "id": "c37419b1",
   "metadata": {},
   "outputs": [
    {
     "data": {
      "text/html": [
       "<div>\n",
       "<style scoped>\n",
       "    .dataframe tbody tr th:only-of-type {\n",
       "        vertical-align: middle;\n",
       "    }\n",
       "\n",
       "    .dataframe tbody tr th {\n",
       "        vertical-align: top;\n",
       "    }\n",
       "\n",
       "    .dataframe thead th {\n",
       "        text-align: right;\n",
       "    }\n",
       "</style>\n",
       "<table border=\"1\" class=\"dataframe\">\n",
       "  <thead>\n",
       "    <tr style=\"text-align: right;\">\n",
       "      <th></th>\n",
       "      <th>DepartmentID</th>\n",
       "      <th>Name</th>\n",
       "      <th>GroupName</th>\n",
       "      <th>Unnamed: 3</th>\n",
       "    </tr>\n",
       "  </thead>\n",
       "  <tbody>\n",
       "    <tr>\n",
       "      <th>0</th>\n",
       "      <td>1</td>\n",
       "      <td>Engineering</td>\n",
       "      <td>Research and Development</td>\n",
       "      <td>NaN</td>\n",
       "    </tr>\n",
       "    <tr>\n",
       "      <th>1</th>\n",
       "      <td>2</td>\n",
       "      <td>Tool Design</td>\n",
       "      <td>Research and Development</td>\n",
       "      <td>NaN</td>\n",
       "    </tr>\n",
       "    <tr>\n",
       "      <th>2</th>\n",
       "      <td>3</td>\n",
       "      <td>Sales</td>\n",
       "      <td>Sales and Marketing</td>\n",
       "      <td>NaN</td>\n",
       "    </tr>\n",
       "    <tr>\n",
       "      <th>3</th>\n",
       "      <td>4</td>\n",
       "      <td>Marketing</td>\n",
       "      <td>Sales and Marketing</td>\n",
       "      <td>NaN</td>\n",
       "    </tr>\n",
       "    <tr>\n",
       "      <th>4</th>\n",
       "      <td>5</td>\n",
       "      <td>Purchasing</td>\n",
       "      <td>Inventory Management</td>\n",
       "      <td>NaN</td>\n",
       "    </tr>\n",
       "    <tr>\n",
       "      <th>5</th>\n",
       "      <td>6</td>\n",
       "      <td>Research and Development</td>\n",
       "      <td>Research and Development</td>\n",
       "      <td>NaN</td>\n",
       "    </tr>\n",
       "    <tr>\n",
       "      <th>6</th>\n",
       "      <td>7</td>\n",
       "      <td>Production</td>\n",
       "      <td>Manufacturing</td>\n",
       "      <td>NaN</td>\n",
       "    </tr>\n",
       "    <tr>\n",
       "      <th>7</th>\n",
       "      <td>8</td>\n",
       "      <td>Production Control</td>\n",
       "      <td>Manufacturing</td>\n",
       "      <td>NaN</td>\n",
       "    </tr>\n",
       "    <tr>\n",
       "      <th>8</th>\n",
       "      <td>9</td>\n",
       "      <td>Human Resources</td>\n",
       "      <td>Executive General and Administration</td>\n",
       "      <td>NaN</td>\n",
       "    </tr>\n",
       "    <tr>\n",
       "      <th>9</th>\n",
       "      <td>10</td>\n",
       "      <td>Finance</td>\n",
       "      <td>Executive General and Administration</td>\n",
       "      <td>NaN</td>\n",
       "    </tr>\n",
       "    <tr>\n",
       "      <th>10</th>\n",
       "      <td>11</td>\n",
       "      <td>Information Services</td>\n",
       "      <td>Executive General and Administration</td>\n",
       "      <td>NaN</td>\n",
       "    </tr>\n",
       "    <tr>\n",
       "      <th>11</th>\n",
       "      <td>12</td>\n",
       "      <td>Document Control</td>\n",
       "      <td>Quality Assurance</td>\n",
       "      <td>NaN</td>\n",
       "    </tr>\n",
       "    <tr>\n",
       "      <th>12</th>\n",
       "      <td>13</td>\n",
       "      <td>Quality Assurance</td>\n",
       "      <td>Quality Assurance</td>\n",
       "      <td>NaN</td>\n",
       "    </tr>\n",
       "    <tr>\n",
       "      <th>13</th>\n",
       "      <td>14</td>\n",
       "      <td>Facilities and Maintenance</td>\n",
       "      <td>Executive General and Administration</td>\n",
       "      <td>NaN</td>\n",
       "    </tr>\n",
       "    <tr>\n",
       "      <th>14</th>\n",
       "      <td>15</td>\n",
       "      <td>Shipping and Receiving</td>\n",
       "      <td>Inventory Management</td>\n",
       "      <td>NaN</td>\n",
       "    </tr>\n",
       "    <tr>\n",
       "      <th>15</th>\n",
       "      <td>16</td>\n",
       "      <td>Executive</td>\n",
       "      <td>Executive General and Administration</td>\n",
       "      <td>NaN</td>\n",
       "    </tr>\n",
       "  </tbody>\n",
       "</table>\n",
       "</div>"
      ],
      "text/plain": [
       "    DepartmentID                        Name  \\\n",
       "0              1                 Engineering   \n",
       "1              2                 Tool Design   \n",
       "2              3                       Sales   \n",
       "3              4                   Marketing   \n",
       "4              5                  Purchasing   \n",
       "5              6    Research and Development   \n",
       "6              7                  Production   \n",
       "7              8          Production Control   \n",
       "8              9             Human Resources   \n",
       "9             10                     Finance   \n",
       "10            11        Information Services   \n",
       "11            12            Document Control   \n",
       "12            13           Quality Assurance   \n",
       "13            14  Facilities and Maintenance   \n",
       "14            15      Shipping and Receiving   \n",
       "15            16                   Executive   \n",
       "\n",
       "                               GroupName  Unnamed: 3  \n",
       "0               Research and Development         NaN  \n",
       "1               Research and Development         NaN  \n",
       "2                    Sales and Marketing         NaN  \n",
       "3                    Sales and Marketing         NaN  \n",
       "4                   Inventory Management         NaN  \n",
       "5               Research and Development         NaN  \n",
       "6                          Manufacturing         NaN  \n",
       "7                          Manufacturing         NaN  \n",
       "8   Executive General and Administration         NaN  \n",
       "9   Executive General and Administration         NaN  \n",
       "10  Executive General and Administration         NaN  \n",
       "11                     Quality Assurance         NaN  \n",
       "12                     Quality Assurance         NaN  \n",
       "13  Executive General and Administration         NaN  \n",
       "14                  Inventory Management         NaN  \n",
       "15  Executive General and Administration         NaN  "
      ]
     },
     "execution_count": 120,
     "metadata": {},
     "output_type": "execute_result"
    }
   ],
   "source": [
    "file=pd.read_csv(\"C:\\\\Users\\\\j\\\\Desktop\\\\Project\\\\new.csv\")\n",
    "file"
   ]
  },
  {
   "cell_type": "code",
   "execution_count": 121,
   "id": "cc6cf818",
   "metadata": {},
   "outputs": [
    {
     "data": {
      "text/plain": [
       "Index(['DepartmentID', 'Name', 'GroupName', 'Unnamed: 3'], dtype='object')"
      ]
     },
     "execution_count": 121,
     "metadata": {},
     "output_type": "execute_result"
    }
   ],
   "source": [
    "file.columns"
   ]
  },
  {
   "cell_type": "code",
   "execution_count": 122,
   "id": "21344029",
   "metadata": {},
   "outputs": [],
   "source": [
    "del file['Unnamed: 3']"
   ]
  },
  {
   "cell_type": "code",
   "execution_count": 129,
   "id": "6aa6bb62",
   "metadata": {},
   "outputs": [
    {
     "data": {
      "text/plain": [
       "Index(['DepartmentID', 'EName', 'GroupName'], dtype='object')"
      ]
     },
     "execution_count": 129,
     "metadata": {},
     "output_type": "execute_result"
    }
   ],
   "source": [
    "file.columns"
   ]
  },
  {
   "cell_type": "code",
   "execution_count": 1,
   "id": "19dfafde",
   "metadata": {},
   "outputs": [
    {
     "ename": "NameError",
     "evalue": "name 'file' is not defined",
     "output_type": "error",
     "traceback": [
      "\u001b[1;31m---------------------------------------------------------------------------\u001b[0m",
      "\u001b[1;31mNameError\u001b[0m                                 Traceback (most recent call last)",
      "Input \u001b[1;32mIn [1]\u001b[0m, in \u001b[0;36m<cell line: 1>\u001b[1;34m()\u001b[0m\n\u001b[1;32m----> 1\u001b[0m file\u001b[38;5;241m=\u001b[39m\u001b[43mfile\u001b[49m\u001b[38;5;241m.\u001b[39mrename(columns\u001b[38;5;241m=\u001b[39m{\u001b[38;5;124m'\u001b[39m\u001b[38;5;124mName\u001b[39m\u001b[38;5;124m'\u001b[39m:\u001b[38;5;124m'\u001b[39m\u001b[38;5;124mEName\u001b[39m\u001b[38;5;124m'\u001b[39m})\n",
      "\u001b[1;31mNameError\u001b[0m: name 'file' is not defined"
     ]
    }
   ],
   "source": [
    "file=file.rename(columns={'Name':'EName'})"
   ]
  },
  {
   "cell_type": "code",
   "execution_count": 130,
   "id": "098cbd0e",
   "metadata": {},
   "outputs": [
    {
     "name": "stdout",
     "output_type": "stream",
     "text": [
      "0 DepartmentID                           1\n",
      "EName                        Engineering\n",
      "GroupName       Research and Development\n",
      "Name: 0, dtype: object\n",
      "1 DepartmentID                           2\n",
      "EName                        Tool Design\n",
      "GroupName       Research and Development\n",
      "Name: 1, dtype: object\n",
      "2 DepartmentID                      3\n",
      "EName                         Sales\n",
      "GroupName       Sales and Marketing\n",
      "Name: 2, dtype: object\n",
      "3 DepartmentID                      4\n",
      "EName                     Marketing\n",
      "GroupName       Sales and Marketing\n",
      "Name: 3, dtype: object\n",
      "4 DepartmentID                       5\n",
      "EName                     Purchasing\n",
      "GroupName       Inventory Management\n",
      "Name: 4, dtype: object\n",
      "5 DepartmentID                           6\n",
      "EName           Research and Development\n",
      "GroupName       Research and Development\n",
      "Name: 5, dtype: object\n",
      "6 DepartmentID                7\n",
      "EName              Production\n",
      "GroupName       Manufacturing\n",
      "Name: 6, dtype: object\n",
      "7 DepartmentID                     8\n",
      "EName           Production Control\n",
      "GroupName            Manufacturing\n",
      "Name: 7, dtype: object\n",
      "8 DepartmentID                                       9\n",
      "EName                                Human Resources\n",
      "GroupName       Executive General and Administration\n",
      "Name: 8, dtype: object\n"
     ]
    },
    {
     "ename": "ProgrammingError",
     "evalue": "('42000', \"[42000] [Microsoft][ODBC SQL Server Driver][SQL Server]String or binary data would be truncated in table 'pythondata.dbo.department', column 'GroupName'. Truncated value: 'Executive General and Administ'. (2628) (SQLExecDirectW); [42000] [Microsoft][ODBC SQL Server Driver][SQL Server]The statement has been terminated. (3621)\")",
     "output_type": "error",
     "traceback": [
      "\u001b[1;31m---------------------------------------------------------------------------\u001b[0m",
      "\u001b[1;31mProgrammingError\u001b[0m                          Traceback (most recent call last)",
      "Input \u001b[1;32mIn [130]\u001b[0m, in \u001b[0;36m<cell line: 1>\u001b[1;34m()\u001b[0m\n\u001b[0;32m      1\u001b[0m \u001b[38;5;28;01mfor\u001b[39;00m i,row \u001b[38;5;129;01min\u001b[39;00m file\u001b[38;5;241m.\u001b[39miterrows():\n\u001b[0;32m      2\u001b[0m     \u001b[38;5;28mprint\u001b[39m(i,row)\n\u001b[1;32m----> 3\u001b[0m     \u001b[43mcursor\u001b[49m\u001b[38;5;241;43m.\u001b[39;49m\u001b[43mexecute\u001b[49m\u001b[43m(\u001b[49m\u001b[38;5;124;43m\"\u001b[39;49m\u001b[38;5;124;43minsert into department(DepartmentID,EName,GroupName)values(?,?,?)\u001b[39;49m\u001b[38;5;124;43m\"\u001b[39;49m\u001b[43m,\u001b[49m\u001b[43mrow\u001b[49m\u001b[38;5;241;43m.\u001b[39;49m\u001b[43mDepartmentID\u001b[49m\u001b[43m,\u001b[49m\u001b[43m \u001b[49m\u001b[43mrow\u001b[49m\u001b[38;5;241;43m.\u001b[39;49m\u001b[43mEName\u001b[49m\u001b[43m,\u001b[49m\u001b[43m \u001b[49m\u001b[43mrow\u001b[49m\u001b[38;5;241;43m.\u001b[39;49m\u001b[43mGroupName\u001b[49m\u001b[43m)\u001b[49m\n\u001b[0;32m      4\u001b[0m     cursor\u001b[38;5;241m.\u001b[39mcommit()\n\u001b[0;32m      7\u001b[0m connection\u001b[38;5;241m.\u001b[39mclose()\n",
      "\u001b[1;31mProgrammingError\u001b[0m: ('42000', \"[42000] [Microsoft][ODBC SQL Server Driver][SQL Server]String or binary data would be truncated in table 'pythondata.dbo.department', column 'GroupName'. Truncated value: 'Executive General and Administ'. (2628) (SQLExecDirectW); [42000] [Microsoft][ODBC SQL Server Driver][SQL Server]The statement has been terminated. (3621)\")"
     ]
    }
   ],
   "source": [
    "for i,row in file.iterrows():\n",
    "    print(i,row)\n",
    "    cursor.execute(\"insert into department(DepartmentID,EName,GroupName)values(?,?,?)\",row.DepartmentID, row.EName, row.GroupName)\n",
    "    cursor.commit()\n",
    "    \n",
    "\n",
    "connection.close()"
   ]
  },
  {
   "cell_type": "code",
   "execution_count": null,
   "id": "99280a97",
   "metadata": {},
   "outputs": [],
   "source": []
  }
 ],
 "metadata": {
  "kernelspec": {
   "display_name": "Python 3 (ipykernel)",
   "language": "python",
   "name": "python3"
  },
  "language_info": {
   "codemirror_mode": {
    "name": "ipython",
    "version": 3
   },
   "file_extension": ".py",
   "mimetype": "text/x-python",
   "name": "python",
   "nbconvert_exporter": "python",
   "pygments_lexer": "ipython3",
   "version": "3.9.7"
  }
 },
 "nbformat": 4,
 "nbformat_minor": 5
}
