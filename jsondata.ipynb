{
 "cells": [
  {
   "cell_type": "code",
   "execution_count": 1,
   "id": "4baf4508",
   "metadata": {},
   "outputs": [],
   "source": [
    "import pandas as pd\n",
    "import json\n"
   ]
  },
  {
   "cell_type": "code",
   "execution_count": 10,
   "id": "da38f9a5",
   "metadata": {},
   "outputs": [],
   "source": [
    "def open_file():\n",
    "    f=open('test.json','r')\n",
    "    a=json.load(f)\n",
    "    return a"
   ]
  },
  {
   "cell_type": "code",
   "execution_count": 9,
   "id": "221fc7f9",
   "metadata": {},
   "outputs": [
    {
     "data": {
      "text/plain": [
       "{'firstName': 'Jane',\n",
       " 'lastName': 'Doe',\n",
       " 'hobbies': ['running', 'sky diving', 'singing'],\n",
       " 'age': 35,\n",
       " 'children': [{'firstName': 'Alice', 'age': 6},\n",
       "  {'firstName': 'Bob', 'age': 8}]}"
      ]
     },
     "execution_count": 9,
     "metadata": {},
     "output_type": "execute_result"
    }
   ],
   "source": [
    "open_file()"
   ]
  },
  {
   "cell_type": "code",
   "execution_count": 24,
   "id": "fe57eac6",
   "metadata": {},
   "outputs": [],
   "source": [
    "def get_columns(a):    \n",
    "    col = []\n",
    "    for i in range(len(a)):\n",
    "        col.append(a[i])\n",
    "    return col"
   ]
  },
  {
   "cell_type": "code",
   "execution_count": 25,
   "id": "f646d913",
   "metadata": {},
   "outputs": [
    {
     "data": {
      "text/plain": [
       "['f', 'i', 'r', 's', 't', '.', 'j', 's', 'o', 'n']"
      ]
     },
     "execution_count": 25,
     "metadata": {},
     "output_type": "execute_result"
    }
   ],
   "source": [
    "get_columns(first.json)"
   ]
  },
  {
   "cell_type": "code",
   "execution_count": null,
   "id": "4530486d",
   "metadata": {},
   "outputs": [],
   "source": []
  },
  {
   "cell_type": "code",
   "execution_count": null,
   "id": "223bb5cb",
   "metadata": {},
   "outputs": [],
   "source": []
  }
 ],
 "metadata": {
  "kernelspec": {
   "display_name": "Python 3 (ipykernel)",
   "language": "python",
   "name": "python3"
  },
  "language_info": {
   "codemirror_mode": {
    "name": "ipython",
    "version": 3
   },
   "file_extension": ".py",
   "mimetype": "text/x-python",
   "name": "python",
   "nbconvert_exporter": "python",
   "pygments_lexer": "ipython3",
   "version": "3.9.7"
  }
 },
 "nbformat": 4,
 "nbformat_minor": 5
}
